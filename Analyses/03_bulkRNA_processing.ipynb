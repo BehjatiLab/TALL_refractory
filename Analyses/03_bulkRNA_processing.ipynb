{
 "cells": [
  {
   "cell_type": "markdown",
   "id": "unavailable-centre",
   "metadata": {},
   "source": [
    "# Process bulk RNA-sequencing data \n",
    "\n",
    "This notebook includes:\n",
    "\n",
    "* Processing and module scoring of our original T-ALL cohort\n",
    "* Processing and module scoring of our PMC cohort \n",
    "* Scoring of the COG cohort (Transcript per million (TPM) counts were downloaded from the KidsFirst portal https://portal.kidsfirstdrc.org/; accessed November 2023)\n",
    "\n",
    "The following code was executed using an R kernel in Jupyterhub, but could be copied over to an R script instead."
   ]
  },
  {
   "cell_type": "code",
   "execution_count": 1,
   "id": "classical-culture",
   "metadata": {},
   "outputs": [],
   "source": [
    "##### ----- Load libraries\n",
    "requiredPackages <- c(\"Matrix\",\"edgeR\",\"GSEABase\",  \"org.Hs.eg.db\", \"data.table\",\n",
    "                      \"dplyr\", \"viridis\",\"cowplot\", \"ggplot2\", \"singscore\", \"biomaRt\") \n",
    "\n",
    "for (pkg in requiredPackages){\n",
    "  suppressWarnings(suppressMessages(library(pkg, character.only = T)))\n",
    "}\n",
    "\n",
    "\n",
    "##### ----- Directories\n",
    "data_dir = \"/lustre/scratch126/casm/team274sb/bl10/T-ALL/Data/Bulk_RNA/DavidOConnor/\"\n",
    "save_dir = \"/lustre/scratch126/casm/team274sb/hw12/T_ALL/data/\"\n",
    "\n",
    "##### ----- Module\n",
    "module_genes = c('ZBTB16','KLRB1','LINC00299','TNFRSF25','EPHA4','ITGB7','PLXNA4','FRY','MYO1F','ST8SIA1','PCED1B-AS1','NTRK1',\n",
    "                 'FURIN','TSPAN32','NR4A3','KIT','SLC24A3','SEMA7A','TRBV2','ITGA9','NNMT','TUBB4A','GATA1','STAR','FAM110A','CDKN1C','TRH','CCPG1','PTGER2')"
   ]
  },
  {
   "cell_type": "markdown",
   "id": "boolean-despite",
   "metadata": {},
   "source": [
    "<br>\n",
    "\n",
    "## Process and score original T-ALL cohort"
   ]
  },
  {
   "cell_type": "markdown",
   "id": "thorough-pendant",
   "metadata": {},
   "source": [
    "### Load data"
   ]
  },
  {
   "cell_type": "code",
   "execution_count": 2,
   "id": "exempt-uganda",
   "metadata": {},
   "outputs": [],
   "source": [
    "xx = lapply(list.files(paste0(data_dir,\"STAR_output\")), \n",
    "       function(i){\n",
    "    x = read.table(paste0(data_dir,\"STAR_output/\",i,'/',i,\".feature_counts.tsv\"), sep=\"\\t\", header=TRUE, skip = 1, row.names = 1)\n",
    "    as.data.frame(x[,6:ncol(x)], row.names=rownames(x))\n",
    "       })\n",
    "dat_x <- do.call(\"cbind\", xx)\n",
    "colnames(dat_x) <- list.files(paste0(data_dir,\"STAR_output\"))"
   ]
  },
  {
   "cell_type": "code",
   "execution_count": 3,
   "id": "better-update",
   "metadata": {},
   "outputs": [
    {
     "data": {
      "text/html": [
       "<table class=\"dataframe\">\n",
       "<caption>A data.frame: 6 × 12</caption>\n",
       "<thead>\n",
       "\t<tr><th></th><th scope=col>Patient_ID</th><th scope=col>Sample_ID</th><th scope=col>File</th><th scope=col>Source</th><th scope=col>Disease</th><th scope=col>Timepoint</th><th scope=col>Tissue</th><th scope=col>ETP_status</th><th scope=col>Genetics</th><th scope=col>Response</th><th scope=col>Experiment</th><th scope=col>Has_scRNA</th></tr>\n",
       "\t<tr><th></th><th scope=col>&lt;chr&gt;</th><th scope=col>&lt;chr&gt;</th><th scope=col>&lt;chr&gt;</th><th scope=col>&lt;chr&gt;</th><th scope=col>&lt;chr&gt;</th><th scope=col>&lt;chr&gt;</th><th scope=col>&lt;chr&gt;</th><th scope=col>&lt;chr&gt;</th><th scope=col>&lt;chr&gt;</th><th scope=col>&lt;chr&gt;</th><th scope=col>&lt;chr&gt;</th><th scope=col>&lt;chr&gt;</th></tr>\n",
       "</thead>\n",
       "<tbody>\n",
       "\t<tr><th scope=row>1</th><td>P011</td><td>P011_D0_bulkRNA</td><td>R0058</td><td>DavidOConnor</td><td>T-ALL</td><td>D0</td><td>BM</td><td>nonETP</td><td>TLX3 </td><td>nonResponsive</td><td>bulkRNA</td><td>No </td></tr>\n",
       "\t<tr><th scope=row>2</th><td>P013</td><td>P013_D0_bulkRNA</td><td>R0027</td><td>DavidOConnor</td><td>T-ALL</td><td>D0</td><td>BM</td><td>ETP   </td><td>HOX  </td><td>nonResponsive</td><td>bulkRNA</td><td>No </td></tr>\n",
       "\t<tr><th scope=row>3</th><td>P016</td><td>P016_D0_bulkRNA</td><td>R0048</td><td>DavidOConnor</td><td>T-ALL</td><td>D0</td><td>BM</td><td>nonETP</td><td>TAL1 </td><td>nonResponsive</td><td>bulkRNA</td><td>Yes</td></tr>\n",
       "\t<tr><th scope=row>4</th><td>P017</td><td>P017_D0_bulkRNA</td><td>R0049</td><td>DavidOConnor</td><td>T-ALL</td><td>D0</td><td>BM</td><td>ETP   </td><td>HOX  </td><td>nonResponsive</td><td>bulkRNA</td><td>No </td></tr>\n",
       "\t<tr><th scope=row>5</th><td>P018</td><td>P018_D0_bulkRNA</td><td>R0028</td><td>DavidOConnor</td><td>T-ALL</td><td>D0</td><td>BM</td><td>nonETP</td><td>Other</td><td>nonResponsive</td><td>bulkRNA</td><td>Yes</td></tr>\n",
       "\t<tr><th scope=row>6</th><td>P019</td><td>P019_D0_bulkRNA</td><td>R0030</td><td>DavidOConnor</td><td>T-ALL</td><td>D0</td><td>BM</td><td>ETP   </td><td>HOX  </td><td>nonResponsive</td><td>bulkRNA</td><td>Yes</td></tr>\n",
       "</tbody>\n",
       "</table>\n"
      ],
      "text/latex": [
       "A data.frame: 6 × 12\n",
       "\\begin{tabular}{r|llllllllllll}\n",
       "  & Patient\\_ID & Sample\\_ID & File & Source & Disease & Timepoint & Tissue & ETP\\_status & Genetics & Response & Experiment & Has\\_scRNA\\\\\n",
       "  & <chr> & <chr> & <chr> & <chr> & <chr> & <chr> & <chr> & <chr> & <chr> & <chr> & <chr> & <chr>\\\\\n",
       "\\hline\n",
       "\t1 & P011 & P011\\_D0\\_bulkRNA & R0058 & DavidOConnor & T-ALL & D0 & BM & nonETP & TLX3  & nonResponsive & bulkRNA & No \\\\\n",
       "\t2 & P013 & P013\\_D0\\_bulkRNA & R0027 & DavidOConnor & T-ALL & D0 & BM & ETP    & HOX   & nonResponsive & bulkRNA & No \\\\\n",
       "\t3 & P016 & P016\\_D0\\_bulkRNA & R0048 & DavidOConnor & T-ALL & D0 & BM & nonETP & TAL1  & nonResponsive & bulkRNA & Yes\\\\\n",
       "\t4 & P017 & P017\\_D0\\_bulkRNA & R0049 & DavidOConnor & T-ALL & D0 & BM & ETP    & HOX   & nonResponsive & bulkRNA & No \\\\\n",
       "\t5 & P018 & P018\\_D0\\_bulkRNA & R0028 & DavidOConnor & T-ALL & D0 & BM & nonETP & Other & nonResponsive & bulkRNA & Yes\\\\\n",
       "\t6 & P019 & P019\\_D0\\_bulkRNA & R0030 & DavidOConnor & T-ALL & D0 & BM & ETP    & HOX   & nonResponsive & bulkRNA & Yes\\\\\n",
       "\\end{tabular}\n"
      ],
      "text/markdown": [
       "\n",
       "A data.frame: 6 × 12\n",
       "\n",
       "| <!--/--> | Patient_ID &lt;chr&gt; | Sample_ID &lt;chr&gt; | File &lt;chr&gt; | Source &lt;chr&gt; | Disease &lt;chr&gt; | Timepoint &lt;chr&gt; | Tissue &lt;chr&gt; | ETP_status &lt;chr&gt; | Genetics &lt;chr&gt; | Response &lt;chr&gt; | Experiment &lt;chr&gt; | Has_scRNA &lt;chr&gt; |\n",
       "|---|---|---|---|---|---|---|---|---|---|---|---|---|\n",
       "| 1 | P011 | P011_D0_bulkRNA | R0058 | DavidOConnor | T-ALL | D0 | BM | nonETP | TLX3  | nonResponsive | bulkRNA | No  |\n",
       "| 2 | P013 | P013_D0_bulkRNA | R0027 | DavidOConnor | T-ALL | D0 | BM | ETP    | HOX   | nonResponsive | bulkRNA | No  |\n",
       "| 3 | P016 | P016_D0_bulkRNA | R0048 | DavidOConnor | T-ALL | D0 | BM | nonETP | TAL1  | nonResponsive | bulkRNA | Yes |\n",
       "| 4 | P017 | P017_D0_bulkRNA | R0049 | DavidOConnor | T-ALL | D0 | BM | ETP    | HOX   | nonResponsive | bulkRNA | No  |\n",
       "| 5 | P018 | P018_D0_bulkRNA | R0028 | DavidOConnor | T-ALL | D0 | BM | nonETP | Other | nonResponsive | bulkRNA | Yes |\n",
       "| 6 | P019 | P019_D0_bulkRNA | R0030 | DavidOConnor | T-ALL | D0 | BM | ETP    | HOX   | nonResponsive | bulkRNA | Yes |\n",
       "\n"
      ],
      "text/plain": [
       "  Patient_ID Sample_ID       File  Source       Disease Timepoint Tissue\n",
       "1 P011       P011_D0_bulkRNA R0058 DavidOConnor T-ALL   D0        BM    \n",
       "2 P013       P013_D0_bulkRNA R0027 DavidOConnor T-ALL   D0        BM    \n",
       "3 P016       P016_D0_bulkRNA R0048 DavidOConnor T-ALL   D0        BM    \n",
       "4 P017       P017_D0_bulkRNA R0049 DavidOConnor T-ALL   D0        BM    \n",
       "5 P018       P018_D0_bulkRNA R0028 DavidOConnor T-ALL   D0        BM    \n",
       "6 P019       P019_D0_bulkRNA R0030 DavidOConnor T-ALL   D0        BM    \n",
       "  ETP_status Genetics Response      Experiment Has_scRNA\n",
       "1 nonETP     TLX3     nonResponsive bulkRNA    No       \n",
       "2 ETP        HOX      nonResponsive bulkRNA    No       \n",
       "3 nonETP     TAL1     nonResponsive bulkRNA    Yes      \n",
       "4 ETP        HOX      nonResponsive bulkRNA    No       \n",
       "5 nonETP     Other    nonResponsive bulkRNA    Yes      \n",
       "6 ETP        HOX      nonResponsive bulkRNA    Yes      "
      ]
     },
     "metadata": {},
     "output_type": "display_data"
    }
   ],
   "source": [
    "bulk_meta_data <- read.table(paste0(data_dir,\"TALL_bulk_rna_metadata.csv\"), sep=\",\", \n",
    "                             header=TRUE)\n",
    "head(bulk_meta_data)"
   ]
  },
  {
   "cell_type": "markdown",
   "id": "loose-enforcement",
   "metadata": {},
   "source": [
    "### Make DGE object"
   ]
  },
  {
   "cell_type": "code",
   "execution_count": 4,
   "id": "loved-saudi",
   "metadata": {},
   "outputs": [],
   "source": [
    "group_x <- factor(as.vector(setNames(bulk_meta_data$Response, bulk_meta_data$File)[colnames(dat_x)]))\n",
    "ETP_x <- factor(as.vector(setNames(bulk_meta_data$ETP_status, bulk_meta_data$File)[colnames(dat_x)]))\n",
    "\n",
    "T_dge <- DGEList(dat_x, group=group_x)\n",
    "T_dge$design <- model.matrix( ~0 + group_x + ETP_x)\n",
    "T_dge$samples$Genetics <- as.vector(setNames(bulk_meta_data$Genetics, bulk_meta_data$File)[rownames(T_dge$samples)])\n",
    "T_dge$samples$Patient_ID <- as.vector(setNames(bulk_meta_data$Patient_ID, bulk_meta_data$File)[rownames(T_dge$samples)])\n",
    "T_dge$samples$Has_scRNA <- as.vector(setNames(bulk_meta_data$Has_scRNA, bulk_meta_data$File)[rownames(T_dge$samples)])\n",
    "T_dge$samples$ETP_status <- as.vector(setNames(bulk_meta_data$ETP_status, bulk_meta_data$File)[rownames(T_dge$samples)])\n",
    "\n",
    "colnames(T_dge$counts) <- T_dge$samples$Patient_ID"
   ]
  },
  {
   "cell_type": "markdown",
   "id": "heated-hunter",
   "metadata": {},
   "source": [
    "#### Convert IDs & add gene lengths"
   ]
  },
  {
   "cell_type": "code",
   "execution_count": 5,
   "id": "stainless-organization",
   "metadata": {},
   "outputs": [],
   "source": [
    "## -- Get gene lengths\n",
    "x = read.table(paste0(data_dir,\"STAR_output/R0027/R0027.feature_counts.tsv\"), sep=\"\\t\", header=TRUE, skip = 1, row.names = 1)\n",
    "GeneLengths <- as.vector(setNames(x$Length, rownames(x))[rownames(T_dge)])"
   ]
  },
  {
   "cell_type": "code",
   "execution_count": 6,
   "id": "twenty-hanging",
   "metadata": {},
   "outputs": [],
   "source": [
    "## -- Genome: GRCh38_v32_modified\n",
    "ensembl_obj <- useEnsembl(biomart='ENSEMBL_MART_ENSEMBL', dataset=\"hsapiens_gene_ensembl\") # host=\"https://oct2018.archive.ensembl.org\"\n",
    "annot <- biomaRt::getBM(attributes=c('ensembl_gene_id','version', 'external_gene_name',  'gene_biotype', 'hgnc_symbol'), \n",
    "                        mart = ensembl_obj)\n",
    "annot <- annot[!(duplicated(annot$external_gene_name)),]"
   ]
  },
  {
   "cell_type": "code",
   "execution_count": 7,
   "id": "reasonable-webcam",
   "metadata": {},
   "outputs": [],
   "source": [
    "idx <- match(rownames(T_dge), annot$ensembl_gene_id)\n",
    "T_dge <- T_dge[which(!is.na(idx)),]\n",
    "GeneLengths <- GeneLengths[which(!is.na(idx))]\n",
    "idx <- idx[!is.na(idx)] \n",
    "T_dge$genes <- annot[idx,] \n",
    "  \n",
    "rownames(T_dge$genes) <- T_dge$genes$ensembl_gene_id\n",
    "T_dge$genes$Length <- GeneLengths\n",
    "rownames(T_dge) <- T_dge$genes$external_gene_name"
   ]
  },
  {
   "cell_type": "markdown",
   "id": "familiar-automation",
   "metadata": {},
   "source": [
    "### Process DGE"
   ]
  },
  {
   "cell_type": "code",
   "execution_count": 8,
   "id": "advance-contents",
   "metadata": {},
   "outputs": [],
   "source": [
    "## -- Gene Filtering\n",
    "T_dge <- T_dge[filterByExpr(T_dge, design=T_dge$design), keep.lib.sizes=FALSE] \n",
    "\n",
    "## -- Calculate Factors & Dispersions\n",
    "T_dge <- calcNormFactors(T_dge)  # normalise by library size\n",
    "T_dge <- estimateDisp(T_dge, T_dge$design, robust = TRUE)"
   ]
  },
  {
   "cell_type": "code",
   "execution_count": 9,
   "id": "technical-bangladesh",
   "metadata": {},
   "outputs": [],
   "source": [
    "## --- RPKM/CPM\n",
    "T_dge$RPKM <- rpkm(T_dge, gene.length=T_dge$genes$Length)\n",
    "T_dge$logRPKM <- rpkm(T_dge, log=TRUE, prior.count = 1, gene.length=T_dge$genes$Length)\n",
    "T_dge$logCPM <- cpm(T_dge, log=TRUE, prior.count = 1)"
   ]
  },
  {
   "cell_type": "markdown",
   "id": "spatial-newsletter",
   "metadata": {},
   "source": [
    "### Score data"
   ]
  },
  {
   "cell_type": "code",
   "execution_count": 15,
   "id": "compliant-richmond",
   "metadata": {},
   "outputs": [
    {
     "name": "stderr",
     "output_type": "stream",
     "text": [
      "Warning message in checkGenes(upSet, rownames(rankData)):\n",
      "“3 genes missing: SEMA7A, ITGA9, CDKN1C”\n"
     ]
    }
   ],
   "source": [
    "rankData <- rankGenes(T_dge$logRPKM)\n",
    "scoredf <- simpleScore(rankData, upSet = module_genes,centerScore=FALSE)\n",
    "T_dge$samples$Module_score_up <- as.vector(scoredf$TotalScore)"
   ]
  },
  {
   "cell_type": "markdown",
   "id": "brazilian-surface",
   "metadata": {},
   "source": [
    "### Save"
   ]
  },
  {
   "cell_type": "code",
   "execution_count": 16,
   "id": "dangerous-hopkins",
   "metadata": {},
   "outputs": [],
   "source": [
    "save(T_dge, file=paste0(save_dir, \"T_dge.Rdata\"))"
   ]
  },
  {
   "cell_type": "markdown",
   "id": "automotive-benefit",
   "metadata": {},
   "source": [
    "<br>\n",
    "\n",
    "<br>\n",
    "\n",
    "## Process and score PMC cohort"
   ]
  },
  {
   "cell_type": "markdown",
   "id": "pretty-merchant",
   "metadata": {},
   "source": [
    "### Load"
   ]
  },
  {
   "cell_type": "code",
   "execution_count": 2,
   "id": "inside-driver",
   "metadata": {},
   "outputs": [],
   "source": [
    "## -- Read RDS\n",
    "PMC_data = readRDS(\"/lustre/scratch126/casm/team274sb/hw12/T_ALL/data/20240223_T_ALL_Behjati_pseudo.rds\")\n",
    "\n",
    "metadata <- PMC_data$metaData\n",
    "\n",
    "## -- Build DGE object\n",
    "PMC_dge <- edgeR::DGEList(PMC_data$rawCounts,\n",
    "                      group=as.vector(setNames(metadata$Disease_sub_specification1,\n",
    "                                    metadata$BiomaterialID)[colnames(PMC_data$rawCounts)]))\n",
    "PMC_dge$samples$materialType <- as.vector(setNames(metadata$materialType,\n",
    "                                    metadata$BiomaterialID)[colnames(PMC_data$rawCounts)])\n",
    "PMC_dge$samples$Disease_sub_specification2 <- as.vector(setNames(metadata$Disease_sub_specification2,\n",
    "                                   metadata$BiomaterialID)[colnames(PMC_data$rawCounts)])\n",
    "PMC_dge$samples$Disease_sub_specification1 <- as.vector(setNames(metadata$Disease_sub_specification1,\n",
    "                                    metadata$BiomaterialID)[colnames(PMC_data$rawCounts)])\n",
    "\n",
    "PMC_dge$samples$patient_ID <- rownames(PMC_dge$samples)"
   ]
  },
  {
   "cell_type": "code",
   "execution_count": 3,
   "id": "rolled-amendment",
   "metadata": {},
   "outputs": [
    {
     "name": "stderr",
     "output_type": "stream",
     "text": [
      "\u001b[1m\u001b[22mNew names:\n",
      "\u001b[36m•\u001b[39m `` -> `...1`\n",
      "Warning message in setNames(as.numeric(MRD_dat$MRD), MRD_dat$...1):\n",
      "“NAs introduced by coercion”\n"
     ]
    }
   ],
   "source": [
    "## -- Add MRD metadata\n",
    "library(readxl)\n",
    "MRD_dat <- read_excel(\"/lustre/scratch126/casm/team274sb/hw12/T_ALL/data/20240223_metaData_T_ALL_Behjati_pseudo_ammended.xlsx\")\n",
    "\n",
    "PMC_dge$samples$MRD <- as.vector(setNames(as.numeric(MRD_dat$`MRD`), MRD_dat$`...1`)[PMC_dge$samples$patient_ID])\n",
    "\n",
    "## -- MRD by split\n",
    "MRD_x <- replace(PMC_dge$samples$MRD,PMC_dge$samples$MRD>=5,\">5\")\n",
    "MRD_x <- replace(MRD_x,(PMC_dge$samples$MRD>0)&(PMC_dge$samples$MRD<1),\"0-1\")\n",
    "MRD_x <- replace(MRD_x,(PMC_dge$samples$MRD>=1)&(PMC_dge$samples$MRD<5),\"1-5\")\n",
    "MRD_x <- replace(MRD_x,PMC_dge$samples$MRD==0,\"0\")\n",
    "PMC_dge$samples$MRD_split <- MRD_x"
   ]
  },
  {
   "cell_type": "code",
   "execution_count": 4,
   "id": "nominated-maria",
   "metadata": {},
   "outputs": [
    {
     "name": "stdout",
     "output_type": "stream",
     "text": [
      "keep\n",
      "FALSE  TRUE \n",
      "40861 17943 \n"
     ]
    },
    {
     "data": {
      "image/png": "[encoded data removed]",
      "text/plain": [
       "Plot with title “Histogram of edgeR::cpm(PMC_dge[keep, ], log = TRUE)”"
      ]
     },
     "metadata": {
      "image/png": {
       "height": 420,
       "width": 420
      }
     },
     "output_type": "display_data"
    }
   ],
   "source": [
    "## -- Filter genes\n",
    "keep = rowMeans(edgeR::cpm(y=PMC_dge, log = TRUE) >= 0.5) >= 0.1\n",
    "hist(edgeR::cpm(PMC_dge[keep, ], log = TRUE))\n",
    "print(table(keep))"
   ]
  },
  {
   "cell_type": "code",
   "execution_count": 5,
   "id": "novel-herald",
   "metadata": {},
   "outputs": [],
   "source": [
    "PMC_dge <- PMC_dge[keep, ]"
   ]
  },
  {
   "cell_type": "code",
   "execution_count": 6,
   "id": "passing-burke",
   "metadata": {},
   "outputs": [
    {
     "name": "stderr",
     "output_type": "stream",
     "text": [
      "Using classic mode.\n",
      "\n"
     ]
    }
   ],
   "source": [
    "## -- Normalise\n",
    "PMC_dge <- edgeR::calcNormFactors(PMC_dge)\n",
    "PMC_dge$logCPM <- edgeR::cpm(PMC_dge, log=TRUE, prior.count = 1,\n",
    "                             normalized.lib.sizes=TRUE, lib.size=PMC_dge$samples$lib.size)\n",
    "\n",
    "#normLibSizes() ?\n",
    "\n",
    "## -- Estimate Dispersions\n",
    "PMC_dge <- estimateDisp(PMC_dge, PMC_dge$design, robust = TRUE)"
   ]
  },
  {
   "cell_type": "markdown",
   "id": "frequent-significance",
   "metadata": {
    "tags": []
   },
   "source": [
    "### Score data"
   ]
  },
  {
   "cell_type": "code",
   "execution_count": 7,
   "id": "silver-nevada",
   "metadata": {},
   "outputs": [
    {
     "name": "stderr",
     "output_type": "stream",
     "text": [
      "Warning message in checkGenes(upSet, rownames(rankData)):\n",
      "“1 genes missing: TRBV2”\n"
     ]
    }
   ],
   "source": [
    "rankData <- rankGenes(PMC_dge$logCPM)\n",
    "scoredf <- simpleScore(rankData, upSet = module_genes,centerScore=FALSE)\n",
    "PMC_dge$samples$Module_score_up <- as.vector(scoredf$TotalScore)"
   ]
  },
  {
   "cell_type": "markdown",
   "id": "spatial-columbia",
   "metadata": {},
   "source": [
    "### Save"
   ]
  },
  {
   "cell_type": "code",
   "execution_count": 8,
   "id": "demonstrated-myrtle",
   "metadata": {},
   "outputs": [],
   "source": [
    "save(PMC_dge, file=paste0(save_dir, \"PMC_dge.Rdata\"))"
   ]
  },
  {
   "cell_type": "markdown",
   "id": "still-generator",
   "metadata": {},
   "source": [
    "<br>\n",
    "\n",
    "## Load and score COG data"
   ]
  },
  {
   "cell_type": "code",
   "execution_count": 14,
   "id": "instrumental-apache",
   "metadata": {},
   "outputs": [],
   "source": [
    "## -- Load as DGE object\n",
    "load(paste0(save_dir, \"COG_dge.Rdata\")) #COG_dge"
   ]
  },
  {
   "cell_type": "code",
   "execution_count": 10,
   "id": "ranging-contrary",
   "metadata": {},
   "outputs": [],
   "source": [
    "## -- Drop 5 samples not included in metadata\n",
    "COG_dge <- COG_dge[,!(colnames(COG_dge) %in% c('PATPKZ','PASKRY','PAUTWX','PAVCTK','PASVJP'))]\n",
    "COG_dge$logTPM <- COG_dge$logTPM[,!(colnames(COG_dge$logTPM) %in% c('PATPKZ','PASKRY','PAUTWX','PAVCTK','PASVJP'))]"
   ]
  },
  {
   "cell_type": "code",
   "execution_count": 11,
   "id": "needed-penny",
   "metadata": {},
   "outputs": [],
   "source": [
    "## -- Drop low purity ( < 60% blasts)\n",
    "patients_to_keep = rownames(COG_dge$samples)[COG_dge$samples$D0_blasts>60]\n",
    "patients_to_keep = patients_to_keep[!(is.na(patients_to_keep))]\n",
    "\n",
    "COG_dge$logTPM <- COG_dge$logTPM[,patients_to_keep]\n",
    "COG_dge <- COG_dge[,patients_to_keep]"
   ]
  },
  {
   "cell_type": "markdown",
   "id": "burning-fever",
   "metadata": {},
   "source": [
    "### Score data"
   ]
  },
  {
   "cell_type": "code",
   "execution_count": 12,
   "id": "abroad-zambia",
   "metadata": {},
   "outputs": [
    {
     "name": "stderr",
     "output_type": "stream",
     "text": [
      "Warning message in checkGenes(upSet, rownames(rankData)):\n",
      "“4 genes missing: TNFRSF25, FRY, TRBV2, CDKN1C”\n"
     ]
    }
   ],
   "source": [
    "rankData <- rankGenes(COG_dge$logTPM)\n",
    "scoredf <- simpleScore(rankData, upSet = module_genes,centerScore=FALSE)\n",
    "COG_dge$samples$Module_score_up <- as.vector(scoredf$TotalScore)"
   ]
  },
  {
   "cell_type": "markdown",
   "id": "effective-defendant",
   "metadata": {},
   "source": [
    "### Save"
   ]
  },
  {
   "cell_type": "code",
   "execution_count": 33,
   "id": "smooth-collins",
   "metadata": {},
   "outputs": [],
   "source": [
    "save(COG_dge, file=paste0(save_dir, \"COG_dge.Rdata\"))"
   ]
  }
 ],
 "metadata": {
  "kernelspec": {
   "display_name": "Single Cell R (4.3)",
   "language": "R",
   "name": "scr_4.3"
  },
  "language_info": {
   "codemirror_mode": "r",
   "file_extension": ".r",
   "mimetype": "text/x-r-source",
   "name": "R",
   "pygments_lexer": "r",
   "version": "4.3.1"
  }
 },
 "nbformat": 4,
 "nbformat_minor": 5
}
